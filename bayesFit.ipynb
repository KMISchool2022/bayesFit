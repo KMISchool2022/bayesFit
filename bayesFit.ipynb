{
 "cells": [
  {
   "cell_type": "markdown",
   "id": "763a6308",
   "metadata": {},
   "source": [
    "<a href=\"https://colab.research.google.com/github/KMISchool2022/bayesFit/blob/main/bayesFit.ipynb\">\n",
    "<img src=\"https://colab.research.google.com/assets/colab-badge.svg\" alt=\"Open In Colab\">\n",
    "</a>"
   ]
  },
  {
   "cell_type": "code",
   "execution_count": null,
   "id": "213afe51",
   "metadata": {},
   "outputs": [],
   "source": [
    "!pip install iminuit\n",
    "!pip install seaborn"
   ]
  },
  {
   "cell_type": "code",
   "execution_count": null,
   "id": "19ebd1e2",
   "metadata": {},
   "outputs": [],
   "source": [
    "# Example of Bayesian parameter estimation using iminuit to find\n",
    "# posterior mode (MAP) estimators and MCMC for intervals.\n",
    "# pdf is a mixture of Gaussian (signal) and exponential (background),\n",
    "# truncated in [xMin,xMax].\n",
    "# G. Cowan / RHUL Physics / December 2022\n",
    "\n",
    "import numpy as np\n",
    "import scipy.stats as stats\n",
    "from scipy.stats import truncexpon\n",
    "from scipy.stats import truncnorm\n",
    "from scipy.stats import chi2\n",
    "from scipy.special import logsumexp\n",
    "from scipy.signal import correlate\n",
    "import iminuit\n",
    "from iminuit import Minuit\n",
    "import matplotlib.pyplot as plt\n",
    "plt.rcParams[\"font.size\"] = 14\n",
    "print(\"iminuit version:\", iminuit.__version__)  # need 2.x"
   ]
  },
  {
   "cell_type": "code",
   "execution_count": null,
   "id": "8dbc7b2e",
   "metadata": {},
   "outputs": [],
   "source": [
    "# Define pdf\n",
    "np.random.seed(seed=1234567)        # fix random seed\n",
    "theta = 0.2                         # fraction of signal\n",
    "mu = 10.                            # mean of Gaussian\n",
    "sigma = 2.                          # std. dev. of Gaussian\n",
    "xi = 5.                             # mean of exponential\n",
    "xMin = 0.\n",
    "xMax = 20.\n",
    "\n",
    "def f(x, par):\n",
    "    theta   = par[0]\n",
    "    mu      = par[1]\n",
    "    sigma   = par[2]\n",
    "    xi      = par[3]\n",
    "    fs = stats.truncnorm.pdf(x, a=(xMin-mu)/sigma, b=(xMax-mu)/sigma, loc=mu, scale=sigma)\n",
    "    fb = stats.truncexpon.pdf(x, b=(xMax-xMin)/xi, loc=xMin, scale=xi)\n",
    "    return theta*fs + (1-theta)*fb"
   ]
  },
  {
   "cell_type": "code",
   "execution_count": null,
   "id": "6b1b6345",
   "metadata": {},
   "outputs": [],
   "source": [
    "# Generate data\n",
    "numVal = 400\n",
    "xData = np.empty([numVal])\n",
    "for i in range (numVal):\n",
    "    r = np.random.uniform();\n",
    "    if r < theta:\n",
    "        xData[i] = stats.truncnorm.rvs(a=(xMin-mu)/sigma, b=(xMax-mu)/sigma, loc=mu, scale=sigma)\n",
    "    else:\n",
    "        xData[i] = stats.truncexpon.rvs(b=(xMax-xMin)/xi, loc=xMin, scale=xi)"
   ]
  },
  {
   "cell_type": "code",
   "execution_count": null,
   "id": "c5f4bec4",
   "metadata": {},
   "outputs": [],
   "source": [
    "# Specify parameters, initial values, limits, etc.\n",
    "parin   = np.array([theta, mu, sigma, xi]) # initial values (here = true values)\n",
    "parname = [r'theta', r'mu', r'sigma', r'xi']\n",
    "parname_latex = [r'$\\theta$', r'$\\mu$', r'$\\sigma$', r'$\\xi$']\n",
    "parstep = np.array([0.1, 1., 1., 1.])      # initial step sizes for iminuit\n",
    "parfix  = [False, False, False, False]     # change these to fix/free parameters\n",
    "numFreePar = sum(1 for i in parfix if parfix[i] == False)\n",
    "parlim  = [(0.,1.), (None, None), (0., None), (0., None)]    # set limits"
   ]
  },
  {
   "cell_type": "code",
   "execution_count": null,
   "id": "07a19b72",
   "metadata": {},
   "outputs": [],
   "source": [
    "# Negative log-likelihood\n",
    "def negLogL(par):\n",
    "    fx = f(xData, par)\n",
    "    return -np.sum(np.log(fx))\n",
    "\n",
    "# Prior pdf\n",
    "def prior(par):\n",
    "    theta    = par[0]\n",
    "    mu       = par[1]\n",
    "    sigma    = par[2]\n",
    "    xi       = par[3]\n",
    "    pi_theta = 1. if theta >= 0. and theta <= 1. else 0.\n",
    "    pi_mu    = 1. if mu >= 0. else 0.\n",
    "    pi_sigma = 1. if sigma > 0. else 0.\n",
    "    pi_xi    = 1. if xi > 0. else 0.\n",
    "    piArr = np.array([pi_theta, pi_mu, pi_sigma, pi_xi])\n",
    "    pi = np.product(piArr[np.array(parfix) == False])   # exclude fixed par\n",
    "    return pi\n",
    "    \n",
    "# Negative log of posterior pdf\n",
    "def negLogPost(par):\n",
    "    return negLogL(par) - np.log(prior(par))"
   ]
  },
  {
   "cell_type": "code",
   "execution_count": null,
   "id": "58c90083",
   "metadata": {},
   "outputs": [],
   "source": [
    "# Find maximum of posterior and its covariance\n",
    "m = Minuit(negLogPost, parin, name=parname)\n",
    "m.errors = parstep\n",
    "m.fixed = parfix\n",
    "m.limits = parlim\n",
    "m.migrad()                                # minimize -logPost\n",
    "MAP = m.values                            # posterior mode\n",
    "sigmaMAP = m.errors                       # standard deviations\n",
    "cov = m.covariance                        # covariance matrix\n",
    "rho = m.covariance.correlation()          # correlation coeffs.\n",
    "    \n",
    "print(r\"par index, name, MAP estimate, standard deviation:\")\n",
    "for i in range(m.npar):\n",
    "    if not m.fixed[i]:\n",
    "        print(\"{:4d}\".format(i), \"{:<10s}\".format(m.parameters[i]), \" = \",\n",
    "         \"{:.6f}\".format(MAP[i]), \" +/- \", \"{:.6f}\".format(sigmaMAP[i]))"
   ]
  },
  {
   "cell_type": "code",
   "execution_count": null,
   "id": "6c76c74b",
   "metadata": {},
   "outputs": [],
   "source": [
    "# Plot fitted pdf (MAP estimators)\n",
    "yMin = 0.\n",
    "yMax = f(0., MAP)*1.1\n",
    "fig = plt.figure(figsize=(8,6))\n",
    "xCurve = np.linspace(xMin, xMax, 100)\n",
    "yCurve = f(xCurve, MAP)\n",
    "plt.plot(xCurve, yCurve, color='dodgerblue')\n",
    "plt.xlabel(r'$x$')\n",
    "plt.ylabel(r'$f(x)$')\n",
    "y_fitval = 0.8\n",
    "delta_y_fitval = 0.08\n",
    "plt.figtext(0.6, y_fitval, 'MAP Estimators')\n",
    "for i in range(len(parin)):\n",
    "    y_fitval -= delta_y_fitval\n",
    "    if not parfix[i]:\n",
    "        plt.figtext(0.6, y_fitval, parname_latex[i] + ' = ' + f'{MAP[i]:.4f}' + r'$\\pm$' + f'{sigmaMAP[i]:.4f}')\n",
    "\n",
    "# Add data as tick marks\n",
    "tick_height = 0.05*(yMax - yMin)\n",
    "xvals = [xData, xData]\n",
    "yvals = [np.zeros_like(xData), tick_height * np.ones_like(xData)]\n",
    "plt.plot(xvals, yvals, color='black', linewidth=1)\n",
    "plt.xlim(xMin, xMax)\n",
    "plt.ylim(yMin, yMax)\n",
    "plt.show()"
   ]
  },
  {
   "cell_type": "code",
   "execution_count": null,
   "id": "f22ca4b5",
   "metadata": {},
   "outputs": [],
   "source": [
    "# Set up MCMC\n",
    "# see J. Rosenthal, http://probability.ca/jeff/ftpdir/galinart.pdf\n",
    "scale_prop = 2.38**2/numFreePar      # or adjust to minimize acf\n",
    "cov_prop = scale_prop*cov\n",
    "print('posterior covariance = ')\n",
    "print(cov)\n",
    "print('proposal covariance = ')\n",
    "print(cov_prop)"
   ]
  },
  {
   "cell_type": "code",
   "execution_count": null,
   "id": "e128da37",
   "metadata": {},
   "outputs": [],
   "source": [
    "# Iterate with Metropolis-Hastings algorithm\n",
    "chain = [np.array(MAP)]         # start point is MAP estimate\n",
    "numIterate = 10000\n",
    "numBurn = 100\n",
    "numAccept = 0\n",
    "print(\"Start MCMC iterations: \", end=\"\")\n",
    "while len(chain) < numIterate:\n",
    "    par = chain[-1]\n",
    "    log_post = -negLogL(par) + np.log(prior(par))\n",
    "    par_prop = np.random.multivariate_normal(par, cov_prop)\n",
    "    if prior(par_prop) <= 0:\n",
    "        chain.append(chain[-1])    # never accept if prob<=0.\n",
    "    else:\n",
    "        log_post_prop = -negLogL(par_prop) + np.log(prior(par_prop))\n",
    "        alpha = np.exp(log_post_prop - log_post)\n",
    "        u = np.random.uniform(0, 1)\n",
    "        if u <= alpha:\n",
    "            chain.append(par_prop)\n",
    "            numAccept += 1\n",
    "        else:\n",
    "            chain.append(chain[-1])\n",
    "        if len(chain)%(numIterate/100) == 0:\n",
    "            print(\".\", end=\"\", flush=True)\n",
    "chain = np.array(chain)\n",
    "print('\\n MCMC acceptance fraction = ', numAccept/numIterate)"
   ]
  },
  {
   "cell_type": "code",
   "execution_count": null,
   "id": "12a5329e",
   "metadata": {},
   "outputs": [],
   "source": [
    "# Show trace plots\n",
    "fig, axes = plt.subplots(sharex=True, nrows=4, figsize=(8,6))\n",
    "plt.xlim(0, numIterate)\n",
    "for i, (ax, label) in enumerate(zip(axes, parname_latex)):\n",
    "    ax.plot(chain[:, i], color=\"dodgerblue\")\n",
    "    ax.axvline(numBurn, color=\"orange\")\n",
    "    ax.set_ylabel(label)\n",
    "axes[-1].set_xlabel(\"iteration number\")\n",
    "fig.tight_layout()\n",
    "plt.show()"
   ]
  },
  {
   "cell_type": "code",
   "execution_count": null,
   "id": "8ef9c4b6",
   "metadata": {},
   "outputs": [],
   "source": [
    "# Show marginal distributions\n",
    "fig, axes = plt.subplots(nrows=4, figsize=(8,6))\n",
    "for i, (ax, label, sim) in enumerate(zip(axes, parname_latex, np.array(MAP))):\n",
    "    ax.hist(chain[numBurn:, i], bins=50, density=True, color=\"dodgerblue\")\n",
    "    ax.set(xlabel=label, ylabel=\"pdf\")\n",
    "    ax.axvline(sim, color=\"orange\")\n",
    "fig.tight_layout(pad=0.3)\n",
    "plt.show()"
   ]
  },
  {
   "cell_type": "code",
   "execution_count": null,
   "id": "61337d6b",
   "metadata": {},
   "outputs": [],
   "source": [
    "# Find autocorrelation and plot\n",
    "var = chain[numBurn:,].var(axis=0)\n",
    "x   = chain[numBurn:,] - chain[numBurn:,].mean(axis=0)\n",
    "max_lag = 200\n",
    "N   = len(x[:,0])\n",
    "acf = np.zeros(shape=[max_lag, len(chain[0])])\n",
    "for i in range(len(chain[0])):\n",
    "    if var[i] > 0:\n",
    "        acf[:,i] = np.correlate(x[:,i], x[:,i], mode='full')[N-1:N-1+max_lag]\n",
    "        acf[:,i] /= (var[i]*N)\n",
    "    \n",
    "fig, axes = plt.subplots(sharex=True, nrows=4, figsize=(8,6))\n",
    "for i, (ax, label) in enumerate(zip(axes, parname_latex)):\n",
    "    ax.plot(acf[:,i], color=\"dodgerblue\")\n",
    "    ax.set_ylabel('ACF[' + label + ']')\n",
    "    ax.set_yticks([0., 0.5, 1.])\n",
    "    ax.grid()\n",
    "axes[-1].set_xlabel(\"lag\")\n",
    "plt.xlim(0, max_lag)\n",
    "plt.subplots_adjust(left=0.15, bottom=0.1, right=0.9, top=0.9, wspace=0.4, hspace=0.4)\n",
    "plt.show()"
   ]
  },
  {
   "cell_type": "code",
   "execution_count": null,
   "id": "abdd120f",
   "metadata": {},
   "outputs": [],
   "source": [
    "# Functions for computing intervals\n",
    "# input:  values = numpy array with MCMC chain, e.g., chain[:,0]\n",
    "#         CL = credibility level, e.g., 0.683\n",
    "\n",
    "# Central credible interval\n",
    "def cc_interval(values, CL):\n",
    "    alpha = np.array([(1.-CL)/2., (1.+CL)/2.])\n",
    "    return np.quantile(values, alpha)\n",
    "\n",
    "# Highest Probability Density (HPD) interval from MCMC chain\n",
    "def HPD_interval(values, CL):\n",
    "    sorted = np.sort(np.copy(values))\n",
    "    nPoints = len(values)\n",
    "    nCovered = np.floor(0.683 * nPoints).astype(int)\n",
    "    intWidth = sorted[nCovered:] - sorted[:nPoints-nCovered]\n",
    "    minWidth = np.argmin(intWidth)\n",
    "    hpdLo = sorted[minWidth]\n",
    "    hpdHi = sorted[minWidth+nCovered]\n",
    "    return np.array([hpdLo, hpdHi])"
   ]
  },
  {
   "cell_type": "code",
   "execution_count": null,
   "id": "b6971a85",
   "metadata": {},
   "outputs": [],
   "source": []
  }
 ],
 "metadata": {
  "kernelspec": {
   "display_name": "Python 3 (ipykernel)",
   "language": "python",
   "name": "python3"
  },
  "language_info": {
   "codemirror_mode": {
    "name": "ipython",
    "version": 3
   },
   "file_extension": ".py",
   "mimetype": "text/x-python",
   "name": "python",
   "nbconvert_exporter": "python",
   "pygments_lexer": "ipython3",
   "version": "3.8.15"
  }
 },
 "nbformat": 4,
 "nbformat_minor": 5
}
